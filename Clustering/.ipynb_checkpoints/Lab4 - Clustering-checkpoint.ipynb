{
 "cells": [
  {
   "cell_type": "markdown",
   "metadata": {},
   "source": [
    "# Lab 4 - Clustering\n",
    "\n",
    "\n",
    "- Your name: Đào Quang Duy\n",
    "\n",
    "- Your student code: 21110398"
   ]
  },
  {
   "cell_type": "markdown",
   "metadata": {},
   "source": [
    "### 1.1. Tìm hiểu tổng quan về dữ liệu\n",
    "\n",
    "Phần này sẽ dùng tập dữ liệu `iris.csv` để minh họa.\n",
    "\n",
    "#### 1.1.1. Load dữ liệu"
   ]
  },
  {
   "cell_type": "code",
   "execution_count": 1,
   "metadata": {},
   "outputs": [
    {
     "data": {
      "text/html": [
       "<div>\n",
       "<style scoped>\n",
       "    .dataframe tbody tr th:only-of-type {\n",
       "        vertical-align: middle;\n",
       "    }\n",
       "\n",
       "    .dataframe tbody tr th {\n",
       "        vertical-align: top;\n",
       "    }\n",
       "\n",
       "    .dataframe thead th {\n",
       "        text-align: right;\n",
       "    }\n",
       "</style>\n",
       "<table border=\"1\" class=\"dataframe\">\n",
       "  <thead>\n",
       "    <tr style=\"text-align: right;\">\n",
       "      <th></th>\n",
       "      <th>sepal_length</th>\n",
       "      <th>sepal_width</th>\n",
       "      <th>petal_length</th>\n",
       "      <th>petal_width</th>\n",
       "      <th>class</th>\n",
       "    </tr>\n",
       "  </thead>\n",
       "  <tbody>\n",
       "    <tr>\n",
       "      <th>0</th>\n",
       "      <td>5.1</td>\n",
       "      <td>3.5</td>\n",
       "      <td>1.4</td>\n",
       "      <td>0.2</td>\n",
       "      <td>Iris-setosa</td>\n",
       "    </tr>\n",
       "    <tr>\n",
       "      <th>1</th>\n",
       "      <td>4.9</td>\n",
       "      <td>3.0</td>\n",
       "      <td>1.4</td>\n",
       "      <td>0.2</td>\n",
       "      <td>Iris-setosa</td>\n",
       "    </tr>\n",
       "    <tr>\n",
       "      <th>2</th>\n",
       "      <td>4.7</td>\n",
       "      <td>3.2</td>\n",
       "      <td>1.3</td>\n",
       "      <td>0.2</td>\n",
       "      <td>Iris-setosa</td>\n",
       "    </tr>\n",
       "    <tr>\n",
       "      <th>3</th>\n",
       "      <td>4.6</td>\n",
       "      <td>3.1</td>\n",
       "      <td>1.5</td>\n",
       "      <td>0.2</td>\n",
       "      <td>Iris-setosa</td>\n",
       "    </tr>\n",
       "    <tr>\n",
       "      <th>4</th>\n",
       "      <td>5.0</td>\n",
       "      <td>3.6</td>\n",
       "      <td>1.4</td>\n",
       "      <td>0.2</td>\n",
       "      <td>Iris-setosa</td>\n",
       "    </tr>\n",
       "  </tbody>\n",
       "</table>\n",
       "</div>"
      ],
      "text/plain": [
       "   sepal_length  sepal_width  petal_length  petal_width        class\n",
       "0           5.1          3.5           1.4          0.2  Iris-setosa\n",
       "1           4.9          3.0           1.4          0.2  Iris-setosa\n",
       "2           4.7          3.2           1.3          0.2  Iris-setosa\n",
       "3           4.6          3.1           1.5          0.2  Iris-setosa\n",
       "4           5.0          3.6           1.4          0.2  Iris-setosa"
      ]
     },
     "execution_count": 1,
     "metadata": {},
     "output_type": "execute_result"
    }
   ],
   "source": [
    "import pandas as pd\n",
    "\n",
    "# Đọc dữ liệu từ \"iris.csv\"\n",
    "iris = pd.read_csv('./data/iris.csv')\n",
    "iris.head(5)"
   ]
  },
  {
   "cell_type": "markdown",
   "metadata": {},
   "source": [
    "#### 1.1.2. Tập dữ liệu Iris\n",
    "\n",
    "`sepal_length`: chiều dài đài hoa (cm)\n",
    "\n",
    "`sepal_width`: chiều rộng đài hoa (cm)\n",
    "\n",
    "`petal_length`: chiều dài cánh hoa (cm)\n",
    "\n",
    "`petal_width`: chiều rộng cánh hoa (cm)\n",
    "\n",
    "`class/label`: loại hoa\n",
    "\n",
    "![Iris dataset](./image/iris.png)"
   ]
  },
  {
   "cell_type": "markdown",
   "metadata": {},
   "source": [
    "#### 1.1.3. Xem các loại biến trong tập dữ liệu"
   ]
  },
  {
   "cell_type": "code",
   "execution_count": 2,
   "metadata": {},
   "outputs": [
    {
     "name": "stdout",
     "output_type": "stream",
     "text": [
      "<class 'pandas.core.frame.DataFrame'>\n",
      "RangeIndex: 150 entries, 0 to 149\n",
      "Data columns (total 5 columns):\n",
      " #   Column        Non-Null Count  Dtype  \n",
      "---  ------        --------------  -----  \n",
      " 0   sepal_length  150 non-null    float64\n",
      " 1   sepal_width   150 non-null    float64\n",
      " 2   petal_length  150 non-null    float64\n",
      " 3   petal_width   150 non-null    float64\n",
      " 4   class         150 non-null    object \n",
      "dtypes: float64(4), object(1)\n",
      "memory usage: 6.0+ KB\n"
     ]
    }
   ],
   "source": [
    "iris.info()"
   ]
  },
  {
   "cell_type": "markdown",
   "metadata": {},
   "source": [
    "#### 1.1.4. Chuyển cột `class` (kiểu string) thành `label` (kiểu int)"
   ]
  },
  {
   "cell_type": "code",
   "execution_count": 3,
   "metadata": {},
   "outputs": [
    {
     "data": {
      "text/html": [
       "<div>\n",
       "<style scoped>\n",
       "    .dataframe tbody tr th:only-of-type {\n",
       "        vertical-align: middle;\n",
       "    }\n",
       "\n",
       "    .dataframe tbody tr th {\n",
       "        vertical-align: top;\n",
       "    }\n",
       "\n",
       "    .dataframe thead th {\n",
       "        text-align: right;\n",
       "    }\n",
       "</style>\n",
       "<table border=\"1\" class=\"dataframe\">\n",
       "  <thead>\n",
       "    <tr style=\"text-align: right;\">\n",
       "      <th></th>\n",
       "      <th>sepal_length</th>\n",
       "      <th>sepal_width</th>\n",
       "      <th>petal_length</th>\n",
       "      <th>petal_width</th>\n",
       "      <th>class</th>\n",
       "    </tr>\n",
       "  </thead>\n",
       "  <tbody>\n",
       "    <tr>\n",
       "      <th>0</th>\n",
       "      <td>5.1</td>\n",
       "      <td>3.5</td>\n",
       "      <td>1.4</td>\n",
       "      <td>0.2</td>\n",
       "      <td>0</td>\n",
       "    </tr>\n",
       "    <tr>\n",
       "      <th>1</th>\n",
       "      <td>4.9</td>\n",
       "      <td>3.0</td>\n",
       "      <td>1.4</td>\n",
       "      <td>0.2</td>\n",
       "      <td>0</td>\n",
       "    </tr>\n",
       "    <tr>\n",
       "      <th>2</th>\n",
       "      <td>4.7</td>\n",
       "      <td>3.2</td>\n",
       "      <td>1.3</td>\n",
       "      <td>0.2</td>\n",
       "      <td>0</td>\n",
       "    </tr>\n",
       "    <tr>\n",
       "      <th>3</th>\n",
       "      <td>4.6</td>\n",
       "      <td>3.1</td>\n",
       "      <td>1.5</td>\n",
       "      <td>0.2</td>\n",
       "      <td>0</td>\n",
       "    </tr>\n",
       "    <tr>\n",
       "      <th>4</th>\n",
       "      <td>5.0</td>\n",
       "      <td>3.6</td>\n",
       "      <td>1.4</td>\n",
       "      <td>0.2</td>\n",
       "      <td>0</td>\n",
       "    </tr>\n",
       "  </tbody>\n",
       "</table>\n",
       "</div>"
      ],
      "text/plain": [
       "   sepal_length  sepal_width  petal_length  petal_width  class\n",
       "0           5.1          3.5           1.4          0.2      0\n",
       "1           4.9          3.0           1.4          0.2      0\n",
       "2           4.7          3.2           1.3          0.2      0\n",
       "3           4.6          3.1           1.5          0.2      0\n",
       "4           5.0          3.6           1.4          0.2      0"
      ]
     },
     "execution_count": 3,
     "metadata": {},
     "output_type": "execute_result"
    }
   ],
   "source": [
    "from sklearn.preprocessing import LabelEncoder\n",
    "\n",
    "le = LabelEncoder()\n",
    "\n",
    "iris['class'] = le.fit_transform(iris['class'])\n",
    "\n",
    "iris.head()"
   ]
  },
  {
   "cell_type": "markdown",
   "metadata": {},
   "source": [
    "## 2. Sử dụng thuật toán gom cụm Kmeans\n",
    "Tham khảo:\n",
    "\n",
    "1. [Kmeans User Guides](https://scikit-learn.org/stable/modules/clustering.html#k-means)\n",
    "\n",
    "2. [Kmeans API Docs](https://scikit-learn.org/stable/modules/generated/sklearn.cluster.KMeans.html#sklearn.cluster.KMeans)"
   ]
  },
  {
   "cell_type": "markdown",
   "metadata": {},
   "source": [
    "### 2.1 Áp dụng thuật toán `KMeans` trên `iris` data với `n_clusters = 3`, `max_iter = 100`"
   ]
  },
  {
   "cell_type": "code",
   "execution_count": 4,
   "metadata": {},
   "outputs": [
    {
     "name": "stdout",
     "output_type": "stream",
     "text": [
      "[[5.006      3.418      1.464      0.244     ]\n",
      " [5.9016129  2.7483871  4.39354839 1.43387097]\n",
      " [6.85       3.07368421 5.74210526 2.07105263]]\n",
      "[0 0 0 0 0 0 0 0 0 0 0 0 0 0 0 0 0 0 0 0 0 0 0 0 0 0 0 0 0 0 0 0 0 0 0 0 0\n",
      " 0 0 0 0 0 0 0 0 0 0 0 0 0 1 1 2 1 1 1 1 1 1 1 1 1 1 1 1 1 1 1 1 1 1 1 1 1\n",
      " 1 1 1 2 1 1 1 1 1 1 1 1 1 1 1 1 1 1 1 1 1 1 1 1 1 1 2 1 2 2 2 2 1 2 2 2 2\n",
      " 2 2 1 1 2 2 2 2 1 2 1 2 1 2 2 1 1 2 2 2 2 2 1 2 2 2 2 1 2 2 2 1 2 2 2 1 2\n",
      " 2 1]\n"
     ]
    }
   ],
   "source": [
    "from sklearn.cluster import KMeans\n",
    "\n",
    "kmeans = KMeans(n_clusters = 3, max_iter = 100)\n",
    "\n",
    "#  Call fit on the estimator and pass in iris\n",
    "X = iris[iris.columns[0:4]]\n",
    "model = kmeans.fit(X)\n",
    "\n",
    "# Obtain the cluster centers from the KMeans model\n",
    "centers = model.cluster_centers_\n",
    "print(centers)\n",
    "\n",
    "# Obtain the cluster predictions from the KMeans model\n",
    "predictions = model.labels_\n",
    "print(predictions)"
   ]
  },
  {
   "cell_type": "markdown",
   "metadata": {},
   "source": [
    "### 2.2. Đánh giá kết quả gom cụm.\n",
    "\n",
    "- Tạo [contingency_matrix](https://en.wikipedia.org/wiki/Contingency_matrix) từ kết quả gán cụm của mô hình (labels_pred) và nhãn cụm thật sự (labels_true).\n",
    "\n",
    "- Tính giá trị [rand index](https://en.wikipedia.org/wiki/Rand_index) của kết quả gom cụm\n",
    "\n",
    "- Tính giá trị [silhouette](https://en.wikipedia.org/wiki/Silhouette) của kết quả gom cụm"
   ]
  },
  {
   "cell_type": "code",
   "execution_count": 5,
   "metadata": {},
   "outputs": [
    {
     "name": "stdout",
     "output_type": "stream",
     "text": [
      "Contingency_matrix: \n",
      "[[50  0  0]\n",
      " [ 0 48  2]\n",
      " [ 0 14 36]]\n",
      "Rand index = 0.7302382722834697\n",
      "Silhouette = 0.5525919445499757\n"
     ]
    }
   ],
   "source": [
    "from sklearn.metrics import cluster\n",
    "from sklearn import metrics\n",
    "\n",
    "labels_true = iris['class'].to_numpy()\n",
    "labels_pred = predictions\n",
    "\n",
    "cm = cluster.contingency_matrix(labels_true, labels_pred)\n",
    "print(\"Contingency_matrix: \\n\" + str(cm))\n",
    "\n",
    "adjusted_rand_score = cluster.adjusted_rand_score(labels_true, labels_pred)\n",
    "print(\"Rand index = \" + str(adjusted_rand_score))\n",
    "\n",
    "silhouette = metrics.silhouette_score(X, labels_pred, metric = 'euclidean')\n",
    "print(\"Silhouette = \" + str(silhouette))"
   ]
  },
  {
   "cell_type": "markdown",
   "metadata": {},
   "source": [
    "### 2.3. Tính F-mearure của kết quả gom cụm dùng true label\n",
    "\n",
    "Giả sử tập dữ liệu $D$ có $n$ phần tử $x_i$ được phân hoạch thành $p$ nhóm (ở đây ứng với số loài). Gọi $y_i \\in \\{1, 2, · · · , p\\}$ là nhóm thật sự (ground-truth labels) cho mỗi phần tử. Ground-truth clustering được cho bởi $T = \\{T_1, T_2, \\cdots , T_p\\}$, với $T_j$ bao gồm tất cả các phần tử có nhãn $j$, nghĩa là, $T_j = \\{ x_i \\in D | y_i = j \\}$. Mặt khác, gọi $C = \\{ C_1, C_2, \\cdots, C_k \\}$ là một kết quả gom cụm của $D$ thành $k$ cụm (cluster), qua một thuật toán gom cụm nào đó, và $\\hat{y_i} \\in \\{ 1, 2, \\cdots, k \\}$ là cluster label cho $x_i$. Ta sẽ xem $T$ là một phân hoạch chuẩn (ground-truth partitioning) và mỗi $T_i$ là một phân vùng (partition). Ta gọi $C$ là một kết quả gom cụm (clustering), với mỗi $C_i$ là một cụm (cluster). Giả sử ground truth là biết trước, một thuật toán gom cụm sẽ thực hiện gom cụm trên $D$ với số cụm chính xác, tức với $k = p$. Tuy nhiên, để giữ tính tổng quát, ta cho phép $k \\ne p$.\n",
    "\n",
    "| Clusters/Species | $T_1$ | $T_2$  | $\\cdots$ | $T_p$ |\n",
    "|---|---|---|---|---|\n",
    "| $C_1$ | $n_{11}$ | $n_{12}$ | $\\cdots$ | $n_{1p}$ |\n",
    "| $C_2$ | $n_{21}$ | $n_{22}$ | $\\cdots$ | $n_{2p}$ |\n",
    "| $\\vdots$ | $\\vdots$ | $\\vdots$ | $\\ddots$ | $\\vdots$ |\n",
    "| $C_k$ | $n_{k1}$ | $n_{k2}$ | $\\cdots$ | $n_{kp}$ |\n",
    "\n",
    "Các độ đo đánh giá kết quả gom cụm cố gắng nắm bắt mức độ mà các phần tử từ cùng một phân vùng (partition) xuất hiện trong cùng một cụm (cluster) và mức độ mà các phần tử từ các phân vùng (partition) khác nhau được nhóm thành các cụm (cluster) khác nhau. Những độ đo này dựa trên $k \\times p$ contingency table $N$ (xem bảng trên) được thành lập dựa vào một kết quả gom cụm (clustering) $C$ và một phân hoạch chuẩn (ground-truth partitioning) $T$, được định nghĩa như sau:\n",
    "\n",
    "$$N(i, j) = n_{ij} = |C_i \\cap T_j|$$\n",
    "\n",
    "- $Recall$ là tỷ lệ đối tượng cùng loài được gán cùng cụm. \n",
    "\n",
    "- $Precision$ là tỷ lệ đối tượng được gán cùng cụm thuộc cùng loài. \n",
    "\n",
    "- $F{\\text -}measure$ là một độ đo cân bằng giữa $Precision$ và $Recall$ và được tính bằng trung bình điều hòa giữa $Precision$ và $Recall$. Đây là một độ đo thường được sử dụng để so sánh các thuật toán gom cụm với nhau.\n",
    "\n",
    "Các độ đo $Precision$, $Recall$, và $F{\\text -}measure$ được tính từ contingency table ở trên dùng các công thức sau:\n",
    "\n",
    "\n",
    "\\begin{equation}\n",
    "precision = \\frac{{\\sum\\limits_{i = 1}^k {\\mathop {{\\rm{max}}}\\limits_{j \\in \\left\\{ {1, \\ldots p} \\right\\}} \\{n_{ij}\\} } }}{{\\sum\\limits_{i = 1}^k {\\sum\\limits_{j = 1}^p {n_{ij} } } }}\n",
    "\\end{equation}\n",
    "\n",
    "\\begin{equation}\n",
    "recall = \\frac{{\\sum\\limits_{j = 1}^p {\\mathop {{\\rm{max}}}\\limits_{i \\in \\left\\{ {1, \\ldots ,k} \\right\\}} \\{n_{ij}\\} } }}{{\\sum\\limits_{i = 1}^k {\\sum\\limits_{j = 1}^p {n_{ij} } } }}\n",
    "\\end{equation}\n",
    "\n",
    "\\begin{equation}\n",
    "\\begin{split}\n",
    "F{\\text -}measure = \\frac{{2 \\cdot precision \\cdot recall}}{{precision + recall}}\n",
    "\\end{split}\n",
    "\\end{equation}"
   ]
  },
  {
   "cell_type": "code",
   "execution_count": 6,
   "metadata": {},
   "outputs": [],
   "source": [
    "# Viết code của bạn ở đây\n",
    "from sklearn.metrics.cluster import contingency_matrix\n",
    "import numpy as np\n",
    "\n",
    "def precision(labels_true, labels_pred):\n",
    "    cm = contingency_matrix(labels_true, labels_pred)\n",
    "    t = np.sum(np.max(cm, axis=1))\n",
    "    m = np.sum(cm)\n",
    "    return t/m\n",
    "\n",
    "\n",
    "def recall(labels_true, labels_pred):\n",
    "    cm = contingency_matrix(labels_true, labels_pred)\n",
    "    t = np.sum(np.max(cm, axis=0))\n",
    "    m = np.sum(cm)\n",
    "    return t/m\n",
    "\n",
    "\n",
    "def fmeasure(labels_true, labels_pred):\n",
    "    a = precision(labels_true, labels_pred)\n",
    "    b = recall(labels_true, labels_pred)\n",
    "    return (2*a*b)/(a+b)\n",
    "\n",
    "    "
   ]
  },
  {
   "cell_type": "code",
   "execution_count": 7,
   "metadata": {},
   "outputs": [
    {
     "name": "stdout",
     "output_type": "stream",
     "text": [
      "Contingency_matrix: \n",
      "[[2 1 0]\n",
      " [0 1 2]]\n"
     ]
    }
   ],
   "source": [
    "labels_true = [\"a\", \"a\", \"a\", \"b\", \"b\", \"b\"]\n",
    "labels_pred = [0, 0, 1, 1, 2, 2]\n",
    "cm = contingency_matrix(labels_true, labels_pred)\n",
    "print(\"Contingency_matrix: \\n\" + str(cm))"
   ]
  },
  {
   "cell_type": "code",
   "execution_count": 8,
   "metadata": {},
   "outputs": [
    {
     "name": "stdout",
     "output_type": "stream",
     "text": [
      "Contingency_matrix: \n",
      "0.6666666666666666\n",
      "Contingency_matrix: \n",
      "0.8333333333333334\n",
      "Contingency_matrix: \n",
      "0.7407407407407408\n"
     ]
    }
   ],
   "source": [
    "# test your code\n",
    "prec = precision(labels_true, labels_pred)\n",
    "print(\"Contingency_matrix: \\n\" + str(prec))\n",
    "\n",
    "rec = recall(labels_true, labels_pred)\n",
    "print(\"Contingency_matrix: \\n\" + str(rec))\n",
    "\n",
    "fm = fmeasure(labels_true, labels_pred)\n",
    "print(\"Contingency_matrix: \\n\" + str(fm))"
   ]
  },
  {
   "cell_type": "markdown",
   "metadata": {},
   "source": [
    "## 3. Áp dụng `Kmeans` với tập dữ liệu `iris`"
   ]
  },
  {
   "cell_type": "markdown",
   "metadata": {},
   "source": [
    "### 3.1. Áp dụng `Kmeans` cho tập dữ liệu `iris` chỉ dùng 2 thuộc tính `sepal_length` và `sepal_width`\n",
    "\n",
    "Thiết lập các giá trị siêu tham số `n_clusters = 3`, `maxIter = 100`. "
   ]
  },
  {
   "cell_type": "code",
   "execution_count": 49,
   "metadata": {},
   "outputs": [
    {
     "name": "stdout",
     "output_type": "stream",
     "text": [
      "[[5.006      3.418     ]\n",
      " [6.81276596 3.07446809]\n",
      " [5.77358491 2.69245283]]\n",
      "[0 0 0 0 0 0 0 0 0 0 0 0 0 0 0 0 0 0 0 0 0 0 0 0 0 0 0 0 0 0 0 0 0 0 0 0 0\n",
      " 0 0 0 0 0 0 0 0 0 0 0 0 0 1 1 1 2 1 2 1 2 1 2 2 2 2 2 2 1 2 2 2 2 2 2 2 2\n",
      " 1 1 1 1 2 2 2 2 2 2 2 2 1 2 2 2 2 2 2 2 2 2 2 2 2 2 1 2 1 1 1 1 2 1 1 1 1\n",
      " 1 1 2 2 1 1 1 1 2 1 2 1 2 1 1 2 2 1 1 1 1 1 2 2 1 1 1 2 1 1 1 2 1 1 1 2 1\n",
      " 1 2]\n"
     ]
    }
   ],
   "source": [
    "# Viết code của bạn ở đây\n",
    "from sklearn.cluster import KMeans\n",
    "\n",
    "kmeans = KMeans(n_clusters = 3, max_iter = 100)\n",
    "\n",
    "#  Call fit on the estimator and pass in iris\n",
    "X = iris[iris.columns[0:2]]\n",
    "model = kmeans.fit(X)\n",
    "\n",
    "# Obtain the cluster centers from the KMeans model\n",
    "centers = model.cluster_centers_\n",
    "print(centers)\n",
    "\n",
    "# Obtain the cluster predictions from the KMeans model\n",
    "predictions = model.labels_\n",
    "print(predictions)"
   ]
  },
  {
   "cell_type": "markdown",
   "metadata": {},
   "source": [
    "### 3.2. Đánh giá kết quả gom cụm\n",
    "\n",
    "- Tạo [contingency_matrix](https://en.wikipedia.org/wiki/Contingency_matrix) từ kết quả gán cụm của mô hình (labels_pred) và nhãn cụm thật sự (labels_true).\n",
    "\n",
    "- Tính giá trị [rand index](https://en.wikipedia.org/wiki/Rand_index) của kết quả gom cụm\n",
    "\n",
    "- Tính giá trị [silhouette](https://en.wikipedia.org/wiki/Silhouette) của kết quả gom cụm\n",
    "\n",
    "- Tính giá trị [F-measure]() (theo định nghĩa ở mục 2.3 ở trên) của kết quả gom cụm"
   ]
  },
  {
   "cell_type": "code",
   "execution_count": 50,
   "metadata": {},
   "outputs": [
    {
     "name": "stdout",
     "output_type": "stream",
     "text": [
      "Contingency_matrix: \n",
      "[[50  0  0]\n",
      " [ 0 12 38]\n",
      " [ 0 35 15]]\n",
      "Rand index = 0.6006861021484542\n",
      "Silhouette = 0.4434693231245126\n",
      "Contingency_matrix: \n",
      "0.82\n",
      "Contingency_matrix: \n",
      "0.82\n",
      "Contingency_matrix: \n",
      "0.82\n"
     ]
    }
   ],
   "source": [
    "# Viết code của bạn ở đây\n",
    "from sklearn.metrics import cluster\n",
    "from sklearn import metrics\n",
    "\n",
    "labels_true = iris['class'].to_numpy()\n",
    "labels_pred = predictions\n",
    "\n",
    "cm = cluster.contingency_matrix(labels_true, labels_pred)\n",
    "print(\"Contingency_matrix: \\n\" + str(cm))\n",
    "\n",
    "adjusted_rand_score = cluster.adjusted_rand_score(labels_true, labels_pred)\n",
    "print(\"Rand index = \" + str(adjusted_rand_score))\n",
    "\n",
    "silhouette = metrics.silhouette_score(X, labels_pred, metric = 'euclidean')\n",
    "print(\"Silhouette = \" + str(silhouette))\n",
    "\n",
    "prec = precision(labels_true, labels_pred)\n",
    "print(\"Contingency_matrix: \\n\" + str(prec))\n",
    "\n",
    "rec = recall(labels_true, labels_pred)\n",
    "print(\"Contingency_matrix: \\n\" + str(rec))\n",
    "\n",
    "fm = fmeasure(labels_true, labels_pred)\n",
    "print(\"Contingency_matrix: \\n\" + str(fm))"
   ]
  },
  {
   "cell_type": "markdown",
   "metadata": {},
   "source": [
    "### 3.3. Trực quan hóa kết quả gom cụm dùng thư viện `matplotlib`. \n",
    "Tham khảo: [python-machine-learning-book-chapter10-notebook](https://github.com/rasbt/machine-learning-book/blob/main/ch10/ch10.ipynb)."
   ]
  },
  {
   "cell_type": "code",
   "execution_count": 53,
   "metadata": {},
   "outputs": [
    {
     "data": {
      "image/png": "[encoded data removed]",
      "text/plain": [
       "<Figure size 432x288 with 1 Axes>"
      ]
     },
     "metadata": {
      "needs_background": "light"
     },
     "output_type": "display_data"
    }
   ],
   "source": [
    "# Viết code của bạn ở đây\n",
    "import matplotlib.pyplot as plt\n",
    "y_km = predictions\n",
    "plt.scatter(X.loc[y_km == 0, X.columns[0]].values,\n",
    "            X.loc[y_km == 0, X.columns[1]].values,\n",
    "            s=50, c='lightgreen',\n",
    "            marker='s', edgecolor='black',\n",
    "            label='Cluster 1')\n",
    "plt.scatter(X.loc[y_km == 1, X.columns[0]].values,\n",
    "            X.loc[y_km == 1, X.columns[1]].values,\n",
    "            s=50, c='orange',\n",
    "            marker='o', edgecolor='black',\n",
    "            label='Cluster 2')\n",
    "plt.scatter(X.loc[y_km == 2, X.columns[0]].values,\n",
    "            X.loc[y_km == 2, X.columns[1]].values,\n",
    "            s=50, c='lightblue',\n",
    "            marker='v', edgecolor='black',\n",
    "            label='Cluster 3')\n",
    "plt.scatter(model.cluster_centers_[:, 0],\n",
    "            model.cluster_centers_[:, 1],\n",
    "            s=250, marker='*',\n",
    "            c='red', edgecolor='black',\n",
    "            label='Centroids')\n",
    "\n",
    "plt.xlabel('sepal_length')\n",
    "plt.ylabel('sepal_width')\n",
    "\n",
    "plt.legend(scatterpoints=1)\n",
    "plt.grid()\n",
    "plt.tight_layout()\n",
    "#plt.savefig('figures/10_02.png', dpi=300)\n",
    "plt.show()"
   ]
  },
  {
   "cell_type": "markdown",
   "metadata": {},
   "source": [
    "## 4. Áp dụng `AgglomerativeClustering` trên tập dữ liệu `iris`\n",
    "\n",
    "Thực lại các bước ở mục 3 trên tập dữ liệu iris với thuật toán AgglomerativeClustering. AgglomerativeClustering là một thuật toán thuộc nhóm [hierarchical clustering](https://en.wikipedia.org/wiki/Hierarchical_clustering) và theo cách tiếp cận bottom-up. \n",
    "\n",
    "Tham khảo: \n",
    "\n",
    "1. [AgglomerativeClustering User Guides](https://scikit-learn.org/stable/modules/clustering.html#hierarchical-clustering)\n",
    "\n",
    "2. [AgglomerativeClustering API Documentations](https://scikit-learn.org/stable/modules/generated/sklearn.cluster.AgglomerativeClustering.html#sklearn.cluster.AgglomerativeClustering)"
   ]
  },
  {
   "cell_type": "code",
   "execution_count": 54,
   "metadata": {},
   "outputs": [
    {
     "data": {
      "image/png": "[encoded data removed]",
      "text/plain": [
       "<Figure size 432x288 with 1 Axes>"
      ]
     },
     "metadata": {
      "needs_background": "light"
     },
     "output_type": "display_data"
    }
   ],
   "source": [
    "# Viết code của bạn ở đây\n",
    "import numpy as np\n",
    "from matplotlib import pyplot as plt\n",
    "from scipy.cluster.hierarchy import dendrogram\n",
    "\n",
    "from sklearn.cluster import AgglomerativeClustering\n",
    "from sklearn.datasets import load_iris\n",
    "\n",
    "def plot_dendrogram(model, **kwargs):\n",
    "    # Create linkage matrix and then plot the dendrogram\n",
    "\n",
    "    # create the counts of samples under each node\n",
    "    counts = np.zeros(model.children_.shape[0])\n",
    "    n_samples = len(model.labels_)\n",
    "    for i, merge in enumerate(model.children_):\n",
    "        current_count = 0\n",
    "        for child_idx in merge:\n",
    "            if child_idx < n_samples:\n",
    "                current_count += 1  # leaf node\n",
    "            else:\n",
    "                current_count += counts[child_idx - n_samples]\n",
    "        counts[i] = current_count\n",
    "\n",
    "    linkage_matrix = np.column_stack(\n",
    "        [model.children_, model.distances_, counts]\n",
    "    ).astype(float)\n",
    "\n",
    "    # Plot the corresponding dendrogram\n",
    "    dendrogram(linkage_matrix, **kwargs)\n",
    "\n",
    "\n",
    "iris = load_iris()\n",
    "X = iris.data\n",
    "\n",
    "# setting distance_threshold=0 ensures we compute the full tree.\n",
    "model = AgglomerativeClustering(distance_threshold=0, n_clusters=None)\n",
    "\n",
    "model = model.fit(X)\n",
    "plt.title(\"Hierarchical Clustering Dendrogram\")\n",
    "# plot the top three levels of the dendrogram\n",
    "plot_dendrogram(model, truncate_mode=\"level\", p=3)\n",
    "plt.xlabel(\"Number of points in node (or index of point if no parenthesis).\")\n",
    "plt.show()"
   ]
  },
  {
   "cell_type": "markdown",
   "metadata": {},
   "source": [
    "## 5. Áp dụng `BisectingKmeans` trên tập dữ liệu `iris`\n",
    "\n",
    "Thực lại các bước ở mục 3 trên tập dữ liệu iris với thuật toán BisectingKmeans. BisectingKmeans là một thuật toán thuộc nhóm [hierarchical clustering](https://en.wikipedia.org/wiki/Hierarchical_clustering) và theo cách tiếp cận top-down. \n",
    "\n",
    "Tham khảo: \n",
    "\n",
    "1. [BisectingKmeans User Guides](https://scikit-learn.org/stable/modules/clustering.html#bisecting-k-means)\n",
    "\n",
    "2. [BisectingKmeans API Documentations](https://scikit-learn.org/stable/modules/generated/sklearn.cluster.BisectingKMeans.html#sklearn.cluster.BisectingKMeans)"
   ]
  },
  {
   "cell_type": "markdown",
   "metadata": {},
   "source": [
    "**Bisecting Kmeans** là một thuật toán gọm cụm thuộc nhóm **hierarchical clustering**. Khác với thuật toán **AgglomerativeClustering** tiếp cận theo hướng **bottom-up**, thuật toán **Bisecting Kmeans** tiếp cận theo hướng **top-down**.\n",
    "\n",
    "**Ý tưởng của thuật toán Bisecting Kmeans**\n",
    "\n",
    "Thuật toán khởi đầu bằng việc xem tất cả các điểm dữ liệu thuộc cùng một cụm và sau đó tiến hành như sau:\n",
    "\n",
    "1. Chọn một cụm để tách\n",
    "2. Tách cụm đã chọn thành 2 `sub-clusters` dùng thuật toán `K-means`. (`bisecting step`) \n",
    "3. Lặp lại bước 2 (`bisecting step`) `iter` lần và chọn ra phép tách tạo ra các cụm có `độ tương tự tổng thể` cao nhất.\n",
    "4. Lặp lại bước 1, 2, và 3 cho đến khi đạt được số cụm mong muốn. \n",
    "\n",
    "- Có nhiều cách khác nhau để **chọn cụm để tách** (bước 1). Ta có thể chọn cụm có kích cỡ lớn nhất (nhiều phần tử nhất) ở mỗi bước, hoặc chọn cụm có độ tương tự tổng thể nhỏ nhất, hoặc chọn cụm dùng cả hai tiêu chí về kích cỡ và độ tương tự tổng thể.\n",
    "\n",
    "- `Độ tương tự tổng thể` (`overall similarity`) của một cụm được tính bằng độ tương tự trung bình của các cặp phần tử trong cùng một cụm (`pairwise similarity`)."
   ]
  },
  {
   "cell_type": "code",
   "execution_count": 102,
   "metadata": {},
   "outputs": [],
   "source": [
    "# Viết code của bạn ở đây\n"
   ]
  },
  {
   "cell_type": "markdown",
   "metadata": {},
   "source": [
    "## 6. Áp dụng `DBSCAN` trên tập dữ liệu `iris`\n",
    "\n",
    "Thực lại các bước ở mục 3 trên tập dữ liệu iris với thuật toán [DBSCAN](https://en.wikipedia.org/wiki/DBSCAN). DBSCAN là một thuật toán gom cụm dựa trên mật độ.\n",
    "\n",
    "Tham khảo: \n",
    "\n",
    "1. [DBSCAN User Guides](https://scikit-learn.org/stable/modules/clustering.html#dbscan)\n",
    "2. [DBSCAN API Documentations](https://scikit-learn.org/stable/modules/generated/sklearn.cluster.DBSCAN.html#sklearn.cluster.DBSCAN)"
   ]
  },
  {
   "cell_type": "code",
   "execution_count": 82,
   "metadata": {},
   "outputs": [
    {
     "data": {
      "text/plain": [
       "array([ 0,  0,  0,  0,  0,  0,  0,  0,  0,  0,  0,  0,  0,  0,  0,  0,  0,\n",
       "        0,  0,  0,  0,  0,  0,  0,  0,  0,  0,  0,  0,  0,  0,  0,  0,  0,\n",
       "        0,  0,  0,  0,  0,  0,  0, -1,  0,  0,  0,  0,  0,  0,  0,  0,  1,\n",
       "        1,  1,  1,  1,  1,  1,  2,  1,  1,  2,  1,  1,  1,  1,  1,  1,  1,\n",
       "       -1,  1,  1,  1,  1,  1,  1,  1,  1,  1,  1,  1,  1,  1,  1,  1,  1,\n",
       "        1,  1, -1,  1,  1,  1,  1,  1,  2,  1,  1,  1,  1,  2,  1,  1,  1,\n",
       "        1,  1,  1, -1, -1,  1, -1, -1,  1,  1,  1,  1,  1,  1,  1, -1, -1,\n",
       "        1,  1,  1, -1,  1,  1,  1,  1,  1,  1,  1,  1, -1,  1,  1, -1, -1,\n",
       "        1,  1,  1,  1,  1,  1,  1,  1,  1,  1,  1,  1,  1,  1],\n",
       "      dtype=int64)"
      ]
     },
     "execution_count": 82,
     "metadata": {},
     "output_type": "execute_result"
    }
   ],
   "source": [
    "# Viết code của bạn ở đây\n",
    "import pandas as pd\n",
    "\n",
    "from sklearn.cluster import DBSCAN\n",
    "import numpy as np\n",
    "iris = pd.read_csv('./data/iris.csv')\n",
    "X = iris[iris.columns[0:4]]\n",
    "clustering = DBSCAN(eps=0.5, min_samples=4).fit(X)\n",
    "clustering.labels_"
   ]
  },
  {
   "cell_type": "code",
   "execution_count": 84,
   "metadata": {},
   "outputs": [
    {
     "data": {
      "image/png": "[encoded data removed]",
      "text/plain": [
       "<Figure size 432x288 with 1 Axes>"
      ]
     },
     "metadata": {
      "needs_background": "light"
     },
     "output_type": "display_data"
    }
   ],
   "source": [
    "y_km = clustering.labels_\n",
    "plt.scatter(X.loc[y_km == 0, X.columns[0]].values,\n",
    "            X.loc[y_km == 0, X.columns[1]].values,\n",
    "            s=50, c='lightgreen',\n",
    "            marker='s', edgecolor='black',\n",
    "            label='Cluster 1')\n",
    "plt.scatter(X.loc[y_km == 1, X.columns[0]].values,\n",
    "            X.loc[y_km == 1, X.columns[1]].values,\n",
    "            s=50, c='orange',\n",
    "            marker='o', edgecolor='black',\n",
    "            label='Cluster 2')\n",
    "plt.scatter(X.loc[y_km == -1, X.columns[0]].values,\n",
    "            X.loc[y_km == -1, X.columns[1]].values,\n",
    "            s=50, c='lightblue',\n",
    "            marker='v', edgecolor='black',\n",
    "            label='Cluster 3')\n",
    "plt.scatter(X.loc[y_km == 2, X.columns[0]].values,\n",
    "            X.loc[y_km == 2, X.columns[1]].values,\n",
    "            s=50, c='lightblue',\n",
    "            marker='v', edgecolor='black',\n",
    "            label='Cluster 3')\n",
    "\n",
    "plt.xlabel('sepal_length')\n",
    "plt.ylabel('sepal_width')\n",
    "\n",
    "plt.legend(scatterpoints=1)\n",
    "plt.grid()\n",
    "plt.tight_layout()\n",
    "#plt.savefig('figures/10_02.png', dpi=300)\n",
    "plt.show()"
   ]
  },
  {
   "cell_type": "code",
   "execution_count": null,
   "metadata": {},
   "outputs": [],
   "source": []
  }
 ],
 "metadata": {
  "kernelspec": {
   "display_name": "Python 3",
   "language": "python",
   "name": "python3"
  },
  "language_info": {
   "codemirror_mode": {
    "name": "ipython",
    "version": 3
   },
   "file_extension": ".py",
   "mimetype": "text/x-python",
   "name": "python",
   "nbconvert_exporter": "python",
   "pygments_lexer": "ipython3",
   "version": "3.8.3"
  },
  "vscode": {
   "interpreter": {
    "hash": "ff4f85d6e04298634172ac5d8264e7e9b556b95639fe52ebb9425c4d4cba0c9c"
   }
  }
 },
 "nbformat": 4,
 "nbformat_minor": 4
}
